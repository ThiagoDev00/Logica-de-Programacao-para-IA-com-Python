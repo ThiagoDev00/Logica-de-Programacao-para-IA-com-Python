{
  "nbformat": 4,
  "nbformat_minor": 0,
  "metadata": {
    "colab": {
      "name": "variaveiseobjetos.ipynb",
      "provenance": [],
      "authorship_tag": "ABX9TyPAcmDAh5BxiVVqjigd9GYj",
      "include_colab_link": true
    },
    "kernelspec": {
      "name": "python3",
      "display_name": "Python 3"
    },
    "language_info": {
      "name": "python"
    }
  },
  "cells": [
    {
      "cell_type": "markdown",
      "metadata": {
        "id": "view-in-github",
        "colab_type": "text"
      },
      "source": [
        "<a href=\"https://colab.research.google.com/github/hiramaralIA/Logica-de-Programacao-para-IA-com-Python/blob/master1/variaveiseobjetos.ipynb\" target=\"_parent\"><img src=\"https://colab.research.google.com/assets/colab-badge.svg\" alt=\"Open In Colab\"/></a>"
      ]
    },
    {
      "cell_type": "code",
      "execution_count": 1,
      "metadata": {
        "colab": {
          "base_uri": "https://localhost:8080/"
        },
        "id": "DVybjU35sdx3",
        "outputId": "c20878f5-87a2-42d5-df6d-3f7742f0deb8"
      },
      "outputs": [
        {
          "output_type": "stream",
          "name": "stdout",
          "text": [
            "1\n",
            "3.13\n",
            "Python\n",
            "False\n"
          ]
        }
      ],
      "source": [
        "#Cria variável do tipo inteiro\n",
        "x = 1\n",
        "print(x)\n",
        "#Cria variável do tipo float\n",
        "y = 3.13\n",
        "print(y)\n",
        "#Cria variável do tipo string\n",
        "m = \"Python\"\n",
        "m = 'Python'\n",
        "print(m)\n",
        "#Cria variável do tipo lógica\n",
        "w = True  \n",
        "y = False\n",
        "print(y)"
      ]
    },
    {
      "cell_type": "code",
      "source": [
        "#calculadora\n",
        "x = 10\n",
        "y = 20\n",
        "z = 100\n",
        "w = (x + y) * z / 100\n",
        "print(w)"
      ],
      "metadata": {
        "colab": {
          "base_uri": "https://localhost:8080/"
        },
        "id": "mxBhILoSsuiE",
        "outputId": "d8f09256-49df-41fa-8226-4eef067c52b2"
      },
      "execution_count": 2,
      "outputs": [
        {
          "output_type": "stream",
          "name": "stdout",
          "text": [
            "30.0\n"
          ]
        }
      ]
    },
    {
      "cell_type": "code",
      "source": [
        "print(\"Vamos adiantar nossa sala\")"
      ],
      "metadata": {
        "colab": {
          "base_uri": "https://localhost:8080/"
        },
        "id": "jlJL9i_es7PB",
        "outputId": "d8df5879-f333-4fd8-f62d-13fb7114eb04"
      },
      "execution_count": 3,
      "outputs": [
        {
          "output_type": "stream",
          "name": "stdout",
          "text": [
            "Vamos adiantar nossa sala\n"
          ]
        }
      ]
    },
    {
      "cell_type": "code",
      "source": [
        "#exibir texto no console\n",
        "print(\"Este texto será impresso no console\")\n",
        "print(x)\n",
        "print(\"Texto e duas variáveis: \", x ,\", \", z)"
      ],
      "metadata": {
        "colab": {
          "base_uri": "https://localhost:8080/"
        },
        "id": "npCGc3jGtGzS",
        "outputId": "d83dbaa1-0bcb-486f-d7ab-0f995c05dc3e"
      },
      "execution_count": 4,
      "outputs": [
        {
          "output_type": "stream",
          "name": "stdout",
          "text": [
            "Este texto será impresso no console\n",
            "10\n",
            "Texto e duas variáveis:  10 ,  100\n"
          ]
        }
      ]
    },
    {
      "cell_type": "code",
      "source": [
        "#verificar tipo\n",
        "print(type(x))\n",
        "print(type(m))"
      ],
      "metadata": {
        "colab": {
          "base_uri": "https://localhost:8080/"
        },
        "id": "VJ3SM1sltLKk",
        "outputId": "cccf198f-2a42-4853-bcd5-d39492f38936"
      },
      "execution_count": 5,
      "outputs": [
        {
          "output_type": "stream",
          "name": "stdout",
          "text": [
            "<class 'int'>\n",
            "<class 'str'>\n"
          ]
        }
      ]
    },
    {
      "cell_type": "code",
      "source": [
        "#entrada de dados\n",
        "print(\"Informe o valor: \")\n",
        "i = input()\n",
        "#mostra tipo string\n",
        "print(type(i))"
      ],
      "metadata": {
        "colab": {
          "base_uri": "https://localhost:8080/"
        },
        "id": "TbJ7LMdHtUuV",
        "outputId": "0c25956f-2cba-4971-a0a7-522b2d69aed7"
      },
      "execution_count": 6,
      "outputs": [
        {
          "output_type": "stream",
          "name": "stdout",
          "text": [
            "Informe o valor: \n",
            "10\n",
            "<class 'str'>\n"
          ]
        }
      ]
    },
    {
      "cell_type": "code",
      "source": [
        "#entrada de valor com msg separada e junto\n",
        "print(\"Informe o valor: \")\n",
        "i = input()\n",
        "# ou\n",
        "i = input(\"Informe o valor: \")"
      ],
      "metadata": {
        "colab": {
          "base_uri": "https://localhost:8080/"
        },
        "id": "NEgoZ1wRthlK",
        "outputId": "1d7f465e-e1aa-4896-ae97-b72bb5581cf3"
      },
      "execution_count": 7,
      "outputs": [
        {
          "name": "stdout",
          "output_type": "stream",
          "text": [
            "Informe o valor: \n",
            "90\n",
            "Informe o valor: 100\n"
          ]
        }
      ]
    },
    {
      "cell_type": "code",
      "source": [
        "#conversão de valores\n",
        "#para inteiro\n",
        "var = input(\"Informe o valor: \")\n",
        "print(type(var))\n",
        "var = int(var)\n",
        "print(type(var))"
      ],
      "metadata": {
        "colab": {
          "base_uri": "https://localhost:8080/"
        },
        "id": "2HUZIQ5jt7VE",
        "outputId": "ff2b65d8-f726-44c8-8312-c1a8877d62f7"
      },
      "execution_count": 8,
      "outputs": [
        {
          "output_type": "stream",
          "name": "stdout",
          "text": [
            "Informe o valor: 56\n",
            "<class 'str'>\n",
            "<class 'int'>\n"
          ]
        }
      ]
    },
    {
      "cell_type": "code",
      "source": [
        "#para float\n",
        "var = input(\"Informe o valor: \")\n",
        "print(type(var))\n",
        "var = float(var)\n",
        "print(type(var))"
      ],
      "metadata": {
        "colab": {
          "base_uri": "https://localhost:8080/"
        },
        "id": "Aua3167uuJVC",
        "outputId": "fa748803-fe05-43d8-88cf-1bd870875f7d"
      },
      "execution_count": 9,
      "outputs": [
        {
          "output_type": "stream",
          "name": "stdout",
          "text": [
            "Informe o valor: 899\n",
            "<class 'str'>\n",
            "<class 'float'>\n"
          ]
        }
      ]
    },
    {
      "cell_type": "code",
      "source": [
        "# Este texto é um comentário\n",
        "X = 10  # a partir daqui é um comentário"
      ],
      "metadata": {
        "id": "29rbsqdhuZWc"
      },
      "execution_count": 10,
      "outputs": []
    }
  ]
}